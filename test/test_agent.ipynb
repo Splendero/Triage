{
 "cells": [
  {
   "cell_type": "code",
   "execution_count": 79,
   "id": "2361af5d",
   "metadata": {},
   "outputs": [],
   "source": [
    "import uuid\n",
    "from util import *"
   ]
  },
  {
   "cell_type": "code",
   "execution_count": 80,
   "id": "cb40e62c",
   "metadata": {},
   "outputs": [],
   "source": [
    "agentId = 'FVTDU6G4VH'\n",
    "agentAliasId = 'KDGB74JVHV'"
   ]
  },
  {
   "cell_type": "code",
   "execution_count": 81,
   "id": "30bffbd0",
   "metadata": {},
   "outputs": [],
   "source": [
    "sessionId = str(uuid.uuid4())"
   ]
  },
  {
   "cell_type": "code",
   "execution_count": 84,
   "id": "02b7edb5",
   "metadata": {},
   "outputs": [
    {
     "name": "stdout",
     "output_type": "stream",
     "text": [
      "User: Yes\n",
      "\n",
      "Agent: I apologize, but I am unable to properly log the patient information\n",
      "       you provided due to an issue with the function call format. Let\n",
      "       me summarize the key details you shared:  - Your full name is\n",
      "       Jones McFarlane - Your medical ID is 1234-5678-90 - You are\n",
      "       feeling nauseous and sleepy  I want to make sure I have\n",
      "       captured this information correctly before attempting to log\n",
      "       it. Please let me know if I'm missing or misunderstanding\n",
      "       anything.\n",
      "\n",
      "Session ID: 9a0f0144-8854-4aec-9444-9d4bc4a763c0\n"
     ]
    }
   ],
   "source": [
    "message = \"Yes\"\n",
    "invoke_agent(\n",
    "    agentId = agentId,\n",
    "    agentAliasId = agentAliasId,\n",
    "    inputText = message,\n",
    "    sessionId = sessionId,\n",
    "    enableTrace = False,\n",
    "    endSession= False\n",
    ")"
   ]
  },
  {
   "cell_type": "code",
   "execution_count": null,
   "id": "5ae435e7",
   "metadata": {},
   "outputs": [],
   "source": []
  }
 ],
 "metadata": {
  "kernelspec": {
   "display_name": ".venv",
   "language": "python",
   "name": "python3"
  },
  "language_info": {
   "codemirror_mode": {
    "name": "ipython",
    "version": 3
   },
   "file_extension": ".py",
   "mimetype": "text/x-python",
   "name": "python",
   "nbconvert_exporter": "python",
   "pygments_lexer": "ipython3",
   "version": "3.13.6"
  }
 },
 "nbformat": 4,
 "nbformat_minor": 5
}
